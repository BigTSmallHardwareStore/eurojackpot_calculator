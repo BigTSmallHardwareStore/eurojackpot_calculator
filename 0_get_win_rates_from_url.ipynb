{
 "cells": [
  {
   "cell_type": "code",
   "execution_count": 1,
   "metadata": {},
   "outputs": [],
   "source": [
    "import pandas as pd\n",
    "import numpy as np\n",
    "import requests\n",
    "import datetime\n",
    "import time"
   ]
  },
  {
   "cell_type": "code",
   "execution_count": 2,
   "metadata": {},
   "outputs": [],
   "source": [
    "# first date of new concept with 2 out of 12 (before 2 out of 10)\n",
    "start_date = datetime.date(2022,3,25)"
   ]
  },
  {
   "cell_type": "markdown",
   "metadata": {},
   "source": [
    "#### Friday and Tuesday are the draw days"
   ]
  },
  {
   "cell_type": "code",
   "execution_count": 3,
   "metadata": {},
   "outputs": [],
   "source": [
    "fridays = []\n",
    "date_m = start_date\n",
    "while date_m <= datetime.date.today():\n",
    "    nextFriday = date_m + datetime.timedelta(days=-date_m.weekday()+4, weeks=1)\n",
    "    fridays.append(nextFriday)\n",
    "    date_m = nextFriday"
   ]
  },
  {
   "cell_type": "code",
   "execution_count": 4,
   "metadata": {},
   "outputs": [],
   "source": [
    "tuesdays = []\n",
    "date_m = start_date\n",
    "while date_m <= datetime.date.today():\n",
    "    nextTuesdays = date_m + datetime.timedelta(days=-date_m.weekday()+1, weeks=1)\n",
    "    tuesdays.append(nextTuesdays)\n",
    "    date_m = nextTuesdays\n"
   ]
  },
  {
   "cell_type": "markdown",
   "metadata": {},
   "source": [
    "#### Format the dates for the API call"
   ]
  },
  {
   "cell_type": "code",
   "execution_count": 5,
   "metadata": {},
   "outputs": [],
   "source": [
    "date_list = [start_date] + tuesdays + fridays"
   ]
  },
  {
   "cell_type": "code",
   "execution_count": 6,
   "metadata": {},
   "outputs": [],
   "source": [
    "date_list = [x.strftime(\"%Y-%m-%d\") for x in date_list]"
   ]
  },
  {
   "cell_type": "markdown",
   "metadata": {},
   "source": [
    "#### Function to call the API and return the json"
   ]
  },
  {
   "cell_type": "code",
   "execution_count": 7,
   "metadata": {},
   "outputs": [],
   "source": [
    "def get_quotes(date):\n",
    "\n",
    "    url = \"https://www.eurojackpot.de/wlinfo/WL_InfoService\"\n",
    "\n",
    "    querystring = {\"client\":\"jsn\",\"gruppe\":\"ZahlenUndQuoten\",\"ewGewsum\":\"ja\",\"historie\":\"ja\",\"spielart\":\"EJ\",\"adg\":\"ja\",\"lang\":\"de\",\"datum\":date}\n",
    "\n",
    "    payload = \"\"\n",
    "    headers = {\n",
    "        \"Accept\": \"application/json, text/plain, */*\",\n",
    "        \"User-Agent\": \"Mozilla/5.0 (Windows NT 10.0; Win64; x64) AppleWebKit/537.36 (KHTML, like Gecko) Chrome/103.0.5060.134 Safari/537.36\"\n",
    "    }\n",
    "\n",
    "    response = requests.request(\"GET\", url, data=payload, headers=headers, params=querystring)\n",
    "\n",
    "    classes = response.json()['auswertung']['quoten']['hauptlotterie']['ziehungen'][0]['gewinnklassen']\n",
    "    five = response.json()['zahlen']['hauptlotterie']['ziehungen'][0]['zahlen']\n",
    "    two = response.json()['zahlen']['hauptlotterie']['ziehungen'][1]['zahlen']\n",
    "\n",
    "    return classes, five, two\n"
   ]
  },
  {
   "cell_type": "markdown",
   "metadata": {},
   "source": [
    "#### Write the json data to a pandas dataframe and save it as .csv"
   ]
  },
  {
   "cell_type": "code",
   "execution_count": 8,
   "metadata": {},
   "outputs": [],
   "source": [
    "df = pd.DataFrame(columns=['Datum', 'Klasse', 'Gewinn'])"
   ]
  },
  {
   "cell_type": "code",
   "execution_count": 9,
   "metadata": {},
   "outputs": [],
   "source": [
    "df_draws = pd.DataFrame(columns=['Datum', '1 aus 50', '2 aus 50', '3 aus 50', '4 aus 50', '5 aus 50', '1 aus 12', '2 aus 12'])"
   ]
  },
  {
   "cell_type": "code",
   "execution_count": 10,
   "metadata": {},
   "outputs": [],
   "source": [
    "for date in date_list:\n",
    "    try:\n",
    "        classes, five, two = get_quotes(date)\n",
    "    except:\n",
    "        continue\n",
    "\n",
    "    for i in classes:\n",
    "        index = len(df)\n",
    "        df.loc[index, 'Datum'] = date\n",
    "        df.loc[index, 'Klasse'] = i['klasse']\n",
    "        df.loc[index, 'Gewinn'] = i['quote']\n",
    "\n",
    "    index = len(df_draws)\n",
    "    df_draws.loc[index, 'Datum'] = date\n",
    "    df_draws.loc[index, '1 aus 50'] = five[0]\n",
    "    df_draws.loc[index, '2 aus 50'] = five[1]\n",
    "    df_draws.loc[index, '3 aus 50'] = five[2]\n",
    "    df_draws.loc[index, '4 aus 50'] = five[3]\n",
    "    df_draws.loc[index, '5 aus 50'] = five[4]\n",
    "    df_draws.loc[index, '1 aus 12'] = two[0]\n",
    "    df_draws.loc[index, '2 aus 12'] = two[1]   \n",
    "\n",
    "    time.sleep(5)"
   ]
  },
  {
   "cell_type": "code",
   "execution_count": 11,
   "metadata": {},
   "outputs": [],
   "source": [
    "df.to_csv('Gewinnquoten.csv', index=None)\n",
    "df_draws.to_csv('ab 2022.csv', index=None)"
   ]
  }
 ],
 "metadata": {
  "kernelspec": {
   "display_name": "Python 3",
   "language": "python",
   "name": "python3"
  },
  "language_info": {
   "codemirror_mode": {
    "name": "ipython",
    "version": 3
   },
   "file_extension": ".py",
   "mimetype": "text/x-python",
   "name": "python",
   "nbconvert_exporter": "python",
   "pygments_lexer": "ipython3",
   "version": "3.12.3"
  },
  "orig_nbformat": 4
 },
 "nbformat": 4,
 "nbformat_minor": 2
}
