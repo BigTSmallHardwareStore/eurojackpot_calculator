{
 "cells": [
  {
   "cell_type": "code",
   "execution_count": 1,
   "metadata": {},
   "outputs": [],
   "source": [
    "import itertools\n",
    "import os"
   ]
  },
  {
   "cell_type": "code",
   "execution_count": 2,
   "metadata": {},
   "outputs": [],
   "source": [
    "# check if folder for files exists. if not it will be created\n",
    "path_name = \"all_possibilities\"\n",
    "if not os.path.exists(path_name):\n",
    "    os.mkdir(path_name)\n"
   ]
  },
  {
   "cell_type": "markdown",
   "metadata": {},
   "source": [
    "Next we create a function that generates all the drawing possibilities and saves them to csv files \\\n",
    "We separate the files at 1 million to be able to use them better in the later steps and so that older PCs don't have problems with the memory"
   ]
  },
  {
   "cell_type": "code",
   "execution_count": 3,
   "metadata": {},
   "outputs": [],
   "source": [
    "def all_possibilities():\n",
    "    # Define the range of numbers and the number of balls for each pot\n",
    "    pot1_range = range(1, 51)\n",
    "    pot1_num_balls = 5\n",
    "    pot2_range = range(1, 13)\n",
    "    pot2_num_balls = 2\n",
    "\n",
    "    # Generate all possible combinations of numbers for each pot\n",
    "    pot1_outcomes = list(itertools.combinations(pot1_range, pot1_num_balls))\n",
    "    pot2_outcomes = list(itertools.combinations(pot2_range, pot2_num_balls))\n",
    "\n",
    "    # Open a file for writing the outcomes\n",
    "    file_num = 1\n",
    "    row_num = 0\n",
    "\n",
    "    with open(os.path.join(path_name, f\"alle_Möglichkeiten_{file_num}.csv\"), \"w\") as f:\n",
    "        # Write the column headers to the file\n",
    "        f.write(\"Pot 1 Ball 1,Pot 1 Ball 2,Pot 1 Ball 3,Pot 1 Ball 4,Pot 1 Ball 5,Pot 2 Ball 1,Pot 2 Ball 2\\n\")\n",
    "\n",
    "        # Generate all possible combinations of outcomes from both pots\n",
    "        for pot1_outcome in pot1_outcomes:\n",
    "            for pot2_outcome in pot2_outcomes:\n",
    "                # Write the outcome to the file\n",
    "                f.write(\",\".join(str(x) for x in pot1_outcome + pot2_outcome) + \"\\n\")\n",
    "                row_num += 1\n",
    "\n",
    "                # Create a new file when the row count reaches 1_000_000\n",
    "                if row_num == 1_000_000:\n",
    "                    f.close()\n",
    "                    file_num += 1\n",
    "                    row_num = 0\n",
    "                    f = open(os.path.join(path_name, f\"alle_Möglichkeiten_{file_num}.csv\"), \"w\")\n",
    "                    f.write(\"Pot 1 Ball 1,Pot 1 Ball 2,Pot 1 Ball 3,Pot 1 Ball 4,Pot 1 Ball 5,Pot 2 Ball 1,Pot 2 Ball 2\\n\")\n"
   ]
  },
  {
   "cell_type": "code",
   "execution_count": 4,
   "metadata": {},
   "outputs": [],
   "source": [
    "# for usage on your environment comment out the following line\n",
    "all_possibilities()"
   ]
  }
 ],
 "metadata": {
  "kernelspec": {
   "display_name": "Python 3",
   "language": "python",
   "name": "python3"
  },
  "language_info": {
   "codemirror_mode": {
    "name": "ipython",
    "version": 3
   },
   "file_extension": ".py",
   "mimetype": "text/x-python",
   "name": "python",
   "nbconvert_exporter": "python",
   "pygments_lexer": "ipython3",
   "version": "3.11.2"
  },
  "orig_nbformat": 4
 },
 "nbformat": 4,
 "nbformat_minor": 2
}
